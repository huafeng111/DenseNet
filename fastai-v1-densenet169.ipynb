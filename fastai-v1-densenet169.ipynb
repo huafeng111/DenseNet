{
 "cells": [
  {
   "cell_type": "markdown",
   "metadata": {
    "_uuid": "a3d5d1c13787b85b2dd7d7e7219e653d0f169a6c"
   },
   "source": [
    "This model is based on fastai 0.7 because thats what we get in kaggle, as soon as pytorch v1 is released and the kernels are updated I'll adjust for the changes I guess.\n",
    "For now I only did standard stuff and used the new suggested learning rate methods of the 1 cycle learning policy as described here:\n",
    "    \n",
    "1. [blog post by Sylvain Gugger summarizing the following papers](https://sgugger.github.io/the-1cycle-policy.html#the-1cycle-policy)\n",
    "2. [original papers by leslie smith on hyperparameter tuning](https://arxiv.org/pdf/1803.09820.pdf) \n",
    "3. [ and Superconvergence, the 1 cycle policy learning](https://arxiv.org/pdf/1708.07120.pdf)\n",
    "\n",
    "Next things I planned would be to properly crop the images so it only includes the 32x32 sized patch that is the important part of the image, and check the augmentation settings.\n",
    "I already set up some functionality to use hyperopt to optimiize the hyperparameters of the one cycle parameters, this will come in another kernel.\n",
    "I also still need to check how many augmentation in the TTA  as used [here](https://towardsdatascience.com/augmentation-for-image-classification-24ffcbc38833)\n",
    "\n",
    "I would also like check how the accuracy (or in this case ROC-AUC) changes with the different resnet18/34/50"
   ]
  },
  {
   "cell_type": "code",
   "execution_count": null,
   "metadata": {
    "_kg_hide-input": true,
    "_kg_hide-output": true,
    "_uuid": "a503853adef770ddb1513e85ad2d377f8965c1db"
   },
   "outputs": [],
   "source": [
    "import pandas as pd\n",
    "import matplotlib.pyplot as plt\n",
    "\n",
    "import numpy as np\n",
    "import os\n",
    "from sklearn.metrics import f1_score\n",
    "\n",
    "from fastai import *\n",
    "from fastai.vision import *\n",
    "\n",
    "import torch\n",
    "import torch.nn as nn\n",
    "import torchvision\n",
    "import cv2\n",
    "\n",
    "from tqdm import tqdm\n",
    "from skmultilearn.model_selection import iterative_train_test_split\n",
    "from sklearn.model_selection import train_test_split\n",
    "from sklearn.preprocessing import MultiLabelBinarizer\n",
    "import warnings\n",
    "warnings.filterwarnings(\"ignore\")\n",
    "\n",
    "%load_ext autoreload\n",
    "%autoreload"
   ]
  },
  {
   "cell_type": "markdown",
   "metadata": {
    "_uuid": "6b220f04907e1c156e1e1235dc0b53f56b63661e"
   },
   "source": [
    "Defining a metric so after epoch I get the validation ROC-AUC score"
   ]
  },
  {
   "cell_type": "code",
   "execution_count": null,
   "metadata": {
    "_uuid": "5caf6cf236cf9d098331763b434806cd73d13823"
   },
   "outputs": [],
   "source": [
    "model_path='.'\n",
    "path='../input/'\n",
    "train_folder=f'{path}train'\n",
    "test_folder=f'{path}test'\n",
    "train_lbl=f'{path}train_labels.csv'\n",
    "ORG_SIZE=96\n",
    "\n",
    "bs=64\n",
    "num_workers=None # Apprently 2 cpus per kaggle node, so 4 threads I think\n",
    "sz=96"
   ]
  },
  {
   "cell_type": "markdown",
   "metadata": {
    "_uuid": "b1c089e47c2325cf783092cc235b9b5e9831022a"
   },
   "source": [
    "In Case I want to run quick tests use a subsample:"
   ]
  },
  {
   "cell_type": "code",
   "execution_count": null,
   "metadata": {
    "_uuid": "ecb840384eb1e0aa90fe881f8c212beb135ad6c4"
   },
   "outputs": [],
   "source": [
    "df_trn=pd.read_csv(train_lbl)"
   ]
  },
  {
   "cell_type": "code",
   "execution_count": null,
   "metadata": {
    "_uuid": "7982793320648eb1ecf956b46da3f2da0d81aaef"
   },
   "outputs": [],
   "source": [
    "tfms = get_transforms(do_flip=True, flip_vert=True, max_rotate=.0, max_zoom=.1,\n",
    "                      max_lighting=0.05, max_warp=0.)"
   ]
  },
  {
   "cell_type": "code",
   "execution_count": null,
   "metadata": {
    "_uuid": "546c687ba7770602c688c01a58427c47f48c80ac"
   },
   "outputs": [],
   "source": [
    "data = ImageDataBunch.from_csv(path,csv_labels=train_lbl,folder='train', ds_tfms=tfms, size=sz, suffix='.tif',test=test_folder,bs=bs);\n",
    "stats=data.batch_stats()        \n",
    "data.normalize(stats)"
   ]
  },
  {
   "cell_type": "code",
   "execution_count": null,
   "metadata": {
    "_uuid": "e8fec9df84b343e53c9e4379881967f713f17873",
    "scrolled": true
   },
   "outputs": [],
   "source": [
    "data.show_batch(rows=5, figsize=(12,9))"
   ]
  },
  {
   "cell_type": "code",
   "execution_count": null,
   "metadata": {
    "_uuid": "b83ed47a0109f7d51f1c475958a5191f87c63b01"
   },
   "outputs": [],
   "source": [
    "from sklearn.metrics import roc_auc_score"
   ]
  },
  {
   "cell_type": "code",
   "execution_count": null,
   "metadata": {
    "_uuid": "881873d04d04ba407205e66c9f535dce0938adb2"
   },
   "outputs": [],
   "source": [
    "def auc_score(y_pred,y_true,tens=True):\n",
    "    score=roc_auc_score(y_true,torch.sigmoid(y_pred)[:,1])\n",
    "    if tens:\n",
    "        score=tensor(score)\n",
    "    else:\n",
    "        score=score\n",
    "    return score"
   ]
  },
  {
   "cell_type": "code",
   "execution_count": null,
   "metadata": {
    "_uuid": "95ac8eb66b25e87a0f4828640a7d6ef405e313f1"
   },
   "outputs": [],
   "source": [
    "from torchvision.models import *"
   ]
  },
  {
   "cell_type": "code",
   "execution_count": null,
   "metadata": {
    "_uuid": "e87abf1fbf9b061cb26fb05afc6932e253d4135c"
   },
   "outputs": [],
   "source": [
    "learn = create_cnn(\n",
    "    data,\n",
    "    densenet169,\n",
    "    path='.',    \n",
    "    metrics=[auc_score], \n",
    "    ps=0.5\n",
    ")"
   ]
  },
  {
   "cell_type": "code",
   "execution_count": null,
   "metadata": {
    "_uuid": "d8f689bfd03e79e5f8f130032468a85788b7acce"
   },
   "outputs": [],
   "source": [
    "learn.lr_find()\n",
    "learn.recorder.plot()"
   ]
  },
  {
   "cell_type": "code",
   "execution_count": null,
   "metadata": {
    "_uuid": "fcfa743233605eafacfcbc383da90c7bc5fbd473"
   },
   "outputs": [],
   "source": [
    "learn.fit_one_cycle(1,3e-2)\n",
    "learn.recorder.plot()\n",
    "learn.recorder.plot_losses()"
   ]
  },
  {
   "cell_type": "code",
   "execution_count": null,
   "metadata": {
    "_uuid": "c87540b8006dffcda2f33bab39add4a704b1740d"
   },
   "outputs": [],
   "source": [
    "learn.unfreeze()\n",
    "learn.lr_find()"
   ]
  },
  {
   "cell_type": "code",
   "execution_count": null,
   "metadata": {
    "_uuid": "c87540b8006dffcda2f33bab39add4a704b1740d"
   },
   "outputs": [],
   "source": [
    "learn.recorder.plot()"
   ]
  },
  {
   "cell_type": "markdown",
   "metadata": {
    "_uuid": "237be2254fe3cb29c8e04430963e6883995b277c"
   },
   "source": [
    "### Warm up with frozen weight is done on a subset so we dont have to waste an entire epoch"
   ]
  },
  {
   "cell_type": "code",
   "execution_count": null,
   "metadata": {
    "_uuid": "b63495c9c8dd4e12d91cda8a2702f6c1a5bdc168"
   },
   "outputs": [],
   "source": [
    "learn.fit_one_cycle(20,slice(1e-4,1e-3))"
   ]
  },
  {
   "cell_type": "code",
   "execution_count": null,
   "metadata": {
    "_uuid": "b63495c9c8dd4e12d91cda8a2702f6c1a5bdc168"
   },
   "outputs": [],
   "source": [
    "learn.recorder.plot()"
   ]
  },
  {
   "cell_type": "code",
   "execution_count": null,
   "metadata": {
    "_uuid": "b63495c9c8dd4e12d91cda8a2702f6c1a5bdc168"
   },
   "outputs": [],
   "source": [
    "learn.recorder.plot_losses()"
   ]
  },
  {
   "cell_type": "markdown",
   "metadata": {
    "_uuid": "5c4e009e09fb77b08997ac8e9ee69660c28676be"
   },
   "source": [
    "### Predit the validation data using TTA\n",
    "Here for every image we want to predict on, n_augs images are augmented form the original image.\n",
    "We can then compare the predictions on for example the image and the image flipped / roated / slightly different crop/ lighting/stretched etc. \n",
    "For now only the diherdral and rotations are used. THis gives a nice extra percent or two when compared to the auc above after training where not TTA is used. \n",
    "I also test if mean or max is better to use on the image and its augments but it can't conclude anything yet."
   ]
  },
  {
   "cell_type": "code",
   "execution_count": null,
   "metadata": {
    "_uuid": "b6917d2f83141d472e04073b59a9b5e1e6b26c57"
   },
   "outputs": [],
   "source": [
    "preds,y=learn.get_preds()\n",
    "pred_score=auc_score(preds,y)\n",
    "pred_score"
   ]
  },
  {
   "cell_type": "code",
   "execution_count": null,
   "metadata": {
    "_uuid": "b6917d2f83141d472e04073b59a9b5e1e6b26c57"
   },
   "outputs": [],
   "source": [
    "preds,y=learn.TTA()\n",
    "pred_score_tta=auc_score(preds,y)\n",
    "pred_score_tta"
   ]
  },
  {
   "cell_type": "markdown",
   "metadata": {
    "_uuid": "bdfd3b80d33057d155e7da32391817a7e88ff80f"
   },
   "source": [
    "### Now predict on test set"
   ]
  },
  {
   "cell_type": "code",
   "execution_count": null,
   "metadata": {
    "_uuid": "6c1890c9509ca13a01b6bba3bba296b5a9b34fa7"
   },
   "outputs": [],
   "source": [
    "preds_test,y_test=learn.get_preds(ds_type=DatasetType.Test)"
   ]
  },
  {
   "cell_type": "code",
   "execution_count": null,
   "metadata": {
    "_uuid": "6a85d720a61b996e3ee308c4a012345ef69fc461",
    "scrolled": true
   },
   "outputs": [],
   "source": [
    "preds_test_tta,y_test_tta=learn.TTA(ds_type=DatasetType.Test)"
   ]
  },
  {
   "cell_type": "markdown",
   "metadata": {
    "_uuid": "88a566de210643baa4a44519e67b6e377c9d26d7"
   },
   "source": [
    "### prepare submission\n",
    "I now load in the sample submission and put my predictions in the label column and save to a new file."
   ]
  },
  {
   "cell_type": "markdown",
   "metadata": {
    "_uuid": "c7f2e327a7943ed6e8d7f8bfc7bd3f9682186b7c"
   },
   "source": [
    "Sometimes its important in which order the ids in the submissions are so to make sure I don't mess up I put them in the same order. My first submission had a 50% score so I somewhere messed up the order oder the matching of id to label.\n",
    "since fname_clean is the id we can just use that as index when adding the correct label in our dataframe. "
   ]
  },
  {
   "cell_type": "code",
   "execution_count": null,
   "metadata": {
    "_uuid": "7c64426066b5d158024e4bbf05a6a05c10777ce7"
   },
   "outputs": [],
   "source": [
    "sub=pd.read_csv(f'{path}/sample_submission.csv').set_index('id')\n",
    "sub.head()"
   ]
  },
  {
   "cell_type": "code",
   "execution_count": null,
   "metadata": {
    "_uuid": "20c89b9c62d4d98fe4cae6195e80338abfb3a553"
   },
   "outputs": [],
   "source": [
    "clean_fname=np.vectorize(lambda fname: str(fname).split('/')[-1].split('.')[0])\n",
    "fname_cleaned=clean_fname(data.test_ds.items)\n",
    "fname_cleaned=fname_cleaned.astype(str)"
   ]
  },
  {
   "cell_type": "markdown",
   "metadata": {
    "_uuid": "25f186dca18d7855cf8b3910a45acd3de9f1f34e"
   },
   "source": [
    "## I add the score to the name of the file so I can later plot the leaderboard score versus my validation score\n",
    "In the fastai course Jeremy mentions that if you have a monotonic relation between validation and LB score the way you set up your validation set matches what the test set consists of."
   ]
  },
  {
   "cell_type": "code",
   "execution_count": null,
   "metadata": {
    "_uuid": "1e9f92573996df4ff7a5f047e7ffae6ef6e53b73"
   },
   "outputs": [],
   "source": [
    "sub.loc[fname_cleaned,'label']=to_np(preds_test[:,1])\n",
    "sub.to_csv(f'submission_{pred_score}.csv')"
   ]
  },
  {
   "cell_type": "code",
   "execution_count": null,
   "metadata": {
    "_uuid": "6a934db6adbf52935aab26a9c6400bf0530d3bb9"
   },
   "outputs": [],
   "source": [
    "sub.loc[fname_cleaned,'label']=to_np(preds_test_tta[:,1])\n",
    "sub.to_csv(f'submission_{pred_score_tta}.csv')"
   ]
  },
  {
   "cell_type": "code",
   "execution_count": null,
   "metadata": {
    "_uuid": "15af9ff7c16ef0e5bda33d4595b482c91d21f305"
   },
   "outputs": [],
   "source": []
  },
  {
   "cell_type": "code",
   "execution_count": null,
   "metadata": {
    "_uuid": "f3584d685b32adf5ca42d8d2df7451e26750bc82"
   },
   "outputs": [],
   "source": []
  }
 ],
 "metadata": {
  "kernelspec": {
   "display_name": "Python 3 (ipykernel)",
   "language": "python",
   "name": "python3"
  },
  "language_info": {
   "codemirror_mode": {
    "name": "ipython",
    "version": 3
   },
   "file_extension": ".py",
   "mimetype": "text/x-python",
   "name": "python",
   "nbconvert_exporter": "python",
   "pygments_lexer": "ipython3",
   "version": "3.8.0"
  }
 },
 "nbformat": 4,
 "nbformat_minor": 1
}
